{
 "cells": [
  {
   "cell_type": "code",
   "execution_count": 3,
   "id": "9af003a5-5ab4-4a9d-bfcb-786c383fc1b0",
   "metadata": {},
   "outputs": [],
   "source": [
    "import cv2 \n",
    "import numpy as np  \n",
    "\n",
    "import matplotlib.pyplot as plt\n",
    "%matplotlib inline"
   ]
  },
  {
   "cell_type": "code",
   "execution_count": 6,
   "id": "7579d9ae-1e80-4b89-a783-34d5bc1e9383",
   "metadata": {},
   "outputs": [
    {
     "data": {
      "text/plain": [
       "<matplotlib.image.AxesImage at 0x1b6c41e0fd0>"
      ]
     },
     "execution_count": 6,
     "metadata": {},
     "output_type": "execute_result"
    },
    {
     "data": {
      "image/png": "[encoded data removed]",
      "text/plain": [
       "<Figure size 432x288 with 1 Axes>"
      ]
     },
     "metadata": {
      "needs_background": "light"
     },
     "output_type": "display_data"
    }
   ],
   "source": [
    "flat_chess = cv2.imread('./DATA/flat_chessboard.png')\n",
    "flat_chess = cv2.cvtColor(flat_chess,cv2.COLOR_BGR2RGB)\n",
    "plt.imshow(flat_chess)"
   ]
  },
  {
   "cell_type": "code",
   "execution_count": 7,
   "id": "1823d367-2231-4e2f-b42b-fec7da05b226",
   "metadata": {},
   "outputs": [
    {
     "data": {
      "text/plain": [
       "<matplotlib.image.AxesImage at 0x1b6c42d0a90>"
      ]
     },
     "execution_count": 7,
     "metadata": {},
     "output_type": "execute_result"
    },
    {
     "data": {
      "image/png": "[encoded data removed]",
      "text/plain": [
       "<Figure size 432x288 with 1 Axes>"
      ]
     },
     "metadata": {
      "needs_background": "light"
     },
     "output_type": "display_data"
    }
   ],
   "source": [
    "gray_flat_chess = cv2.cvtColor(flat_chess,cv2.COLOR_BGR2GRAY)\n",
    "plt.imshow(gray_flat_chess,cmap='gray')"
   ]
  },
  {
   "cell_type": "markdown",
   "id": "d3a4fac6-f040-4076-ace8-3ac236bd6c39",
   "metadata": {},
   "source": [
    "# Corners : Gradients changing in both directions\n",
    "**cornerHarris Function**\n",
    "\n",
    "*  src Input single-channel 8-bit or floating-point image.\n",
    "*  dst Image to store the Harris detector responses. It has the type CV_32FC1 and the same size as src .\n",
    "*  blockSize Neighborhood size (see the details on #cornerEigenValsAndVecs ).\n",
    "*  ksize Aperture parameter for the Sobel operator.\n",
    "*  k Harris detector free parameter. See the formula in DocString\n",
    "*  borderType Pixel extrapolation method. See #BorderTypes."
   ]
  },
  {
   "cell_type": "code",
   "execution_count": null,
   "id": "f91dea97-d061-458c-a3a5-64a661a546c7",
   "metadata": {},
   "outputs": [],
   "source": []
  }
 ],
 "metadata": {
  "kernelspec": {
   "display_name": "Python 3",
   "language": "python",
   "name": "python3"
  },
  "language_info": {
   "codemirror_mode": {
    "name": "ipython",
    "version": 3
   },
   "file_extension": ".py",
   "mimetype": "text/x-python",
   "name": "python",
   "nbconvert_exporter": "python",
   "pygments_lexer": "ipython3",
   "version": "3.8.8"
  }
 },
 "nbformat": 4,
 "nbformat_minor": 5
}
