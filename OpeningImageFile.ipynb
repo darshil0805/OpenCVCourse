{
 "cells": [
  {
   "cell_type": "code",
   "execution_count": 1,
   "id": "a10a23a9-8859-4270-a5ac-e2ce4ea8fc63",
   "metadata": {},
   "outputs": [],
   "source": [
    "import numpy as np\n",
    "import matplotlib.pyplot as plt\n",
    "%matplotlib inline"
   ]
  },
  {
   "cell_type": "code",
   "execution_count": 3,
   "id": "2eb38e59-8fa7-42e3-a5b4-f4d47bcbe548",
   "metadata": {},
   "outputs": [],
   "source": [
    "import cv2"
   ]
  },
  {
   "cell_type": "code",
   "execution_count": 4,
   "id": "359f1588-84fa-460f-b337-13725bbfffc4",
   "metadata": {},
   "outputs": [],
   "source": [
    "img  = cv2.imread('DATA/00-puppy.jpg')"
   ]
  },
  {
   "cell_type": "code",
   "execution_count": 5,
   "id": "c17dfc9b-8ccd-43cd-b245-2c1073d25f5c",
   "metadata": {},
   "outputs": [
    {
     "data": {
      "text/plain": [
       "NoneType"
      ]
     },
     "execution_count": 5,
     "metadata": {},
     "output_type": "execute_result"
    }
   ],
   "source": [
    "type(img)"
   ]
  },
  {
   "cell_type": "code",
   "execution_count": 6,
   "id": "25e09915-d0c5-48ac-a03b-5d4241e18038",
   "metadata": {},
   "outputs": [
    {
     "name": "stderr",
     "output_type": "stream",
     "text": [
      "'pwd' is not recognized as an internal or external command,\n",
      "operable program or batch file.\n"
     ]
    }
   ],
   "source": [
    "!"
   ]
  },
  {
   "cell_type": "code",
   "execution_count": null,
   "id": "9bc1f7c4-d7ea-4430-9503-2a61717ea0fb",
   "metadata": {},
   "outputs": [],
   "source": []
  }
 ],
 "metadata": {
  "kernelspec": {
   "display_name": "Python 3",
   "language": "python",
   "name": "python3"
  },
  "language_info": {
   "codemirror_mode": {
    "name": "ipython",
    "version": 3
   },
   "file_extension": ".py",
   "mimetype": "text/x-python",
   "name": "python",
   "nbconvert_exporter": "python",
   "pygments_lexer": "ipython3",
   "version": "3.8.8"
  }
 },
 "nbformat": 4,
 "nbformat_minor": 5
}
