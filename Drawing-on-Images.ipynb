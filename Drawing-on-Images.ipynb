{
 "cells": [
  {
   "cell_type": "code",
   "execution_count": 1,
   "id": "36b1c032-92ab-4fb1-b3b5-1c2fabbedd47",
   "metadata": {},
   "outputs": [],
   "source": [
    "import numpy as np\n",
    "import matplotlib.pyplot as plt\n",
    "%matplotlib inline\n",
    "import cv2"
   ]
  },
  {
   "cell_type": "code",
   "execution_count": 2,
   "id": "ec8f7c28-a365-4211-93fd-cbc392bd6ad9",
   "metadata": {},
   "outputs": [],
   "source": [
    "blank_img = np.zeros((512,512,3),dtype = np.int16)"
   ]
  },
  {
   "cell_type": "code",
   "execution_count": 3,
   "id": "8b5a3522-f042-44fc-bd7a-71071c62d1e6",
   "metadata": {},
   "outputs": [
    {
     "data": {
      "text/plain": [
       "(512, 512, 3)"
      ]
     },
     "execution_count": 3,
     "metadata": {},
     "output_type": "execute_result"
    }
   ],
   "source": [
    "blank_img.shape"
   ]
  },
  {
   "cell_type": "code",
   "execution_count": 4,
   "id": "d507821c-f035-44b8-9762-abc07f522919",
   "metadata": {},
   "outputs": [
    {
     "data": {
      "image/png": "[encoded data removed]",
      "text/plain": [
       "<Figure size 432x288 with 1 Axes>"
      ]
     },
     "metadata": {
      "needs_background": "light"
     },
     "output_type": "display_data"
    }
   ],
   "source": [
    "plt.imshow(blank_img);"
   ]
  },
  {
   "cell_type": "markdown",
   "id": "dcc54e52-2a41-4e13-a8e2-e23608b546ec",
   "metadata": {},
   "source": [
    "## Rectangles"
   ]
  },
  {
   "cell_type": "code",
   "execution_count": 5,
   "id": "eb090281-50b1-4608-9bd8-7a3484dc386f",
   "metadata": {},
   "outputs": [
    {
     "data": {
      "text/plain": [
       "array([[[0, 0, 0],\n",
       "        [0, 0, 0],\n",
       "        [0, 0, 0],\n",
       "        ...,\n",
       "        [0, 0, 0],\n",
       "        [0, 0, 0],\n",
       "        [0, 0, 0]],\n",
       "\n",
       "       [[0, 0, 0],\n",
       "        [0, 0, 0],\n",
       "        [0, 0, 0],\n",
       "        ...,\n",
       "        [0, 0, 0],\n",
       "        [0, 0, 0],\n",
       "        [0, 0, 0]],\n",
       "\n",
       "       [[0, 0, 0],\n",
       "        [0, 0, 0],\n",
       "        [0, 0, 0],\n",
       "        ...,\n",
       "        [0, 0, 0],\n",
       "        [0, 0, 0],\n",
       "        [0, 0, 0]],\n",
       "\n",
       "       ...,\n",
       "\n",
       "       [[0, 0, 0],\n",
       "        [0, 0, 0],\n",
       "        [0, 0, 0],\n",
       "        ...,\n",
       "        [0, 0, 0],\n",
       "        [0, 0, 0],\n",
       "        [0, 0, 0]],\n",
       "\n",
       "       [[0, 0, 0],\n",
       "        [0, 0, 0],\n",
       "        [0, 0, 0],\n",
       "        ...,\n",
       "        [0, 0, 0],\n",
       "        [0, 0, 0],\n",
       "        [0, 0, 0]],\n",
       "\n",
       "       [[0, 0, 0],\n",
       "        [0, 0, 0],\n",
       "        [0, 0, 0],\n",
       "        ...,\n",
       "        [0, 0, 0],\n",
       "        [0, 0, 0],\n",
       "        [0, 0, 0]]], dtype=int16)"
      ]
     },
     "execution_count": 5,
     "metadata": {},
     "output_type": "execute_result"
    }
   ],
   "source": [
    "cv2.rectangle(blank_img,pt1 = (5,5),pt2 = (490,490),color = (255,0,0),thickness = 5)"
   ]
  },
  {
   "cell_type": "code",
   "execution_count": 6,
   "id": "53526250-da7b-4a15-b6e5-4502d68ef4c3",
   "metadata": {},
   "outputs": [
    {
     "data": {
      "text/plain": [
       "<matplotlib.image.AxesImage at 0x1bfbed488b0>"
      ]
     },
     "execution_count": 6,
     "metadata": {},
     "output_type": "execute_result"
    },
    {
     "data": {
      "image/png": "[encoded data removed]",
      "text/plain": [
       "<Figure size 432x288 with 1 Axes>"
      ]
     },
     "metadata": {
      "needs_background": "light"
     },
     "output_type": "display_data"
    }
   ],
   "source": [
    "plt.imshow(blank_img)"
   ]
  },
  {
   "cell_type": "code",
   "execution_count": 7,
   "id": "984152f3-b76a-4908-9cd3-fb2d2e7bc074",
   "metadata": {},
   "outputs": [
    {
     "data": {
      "text/plain": [
       "array([[[0, 0, 0],\n",
       "        [0, 0, 0],\n",
       "        [0, 0, 0],\n",
       "        ...,\n",
       "        [0, 0, 0],\n",
       "        [0, 0, 0],\n",
       "        [0, 0, 0]],\n",
       "\n",
       "       [[0, 0, 0],\n",
       "        [0, 0, 0],\n",
       "        [0, 0, 0],\n",
       "        ...,\n",
       "        [0, 0, 0],\n",
       "        [0, 0, 0],\n",
       "        [0, 0, 0]],\n",
       "\n",
       "       [[0, 0, 0],\n",
       "        [0, 0, 0],\n",
       "        [0, 0, 0],\n",
       "        ...,\n",
       "        [0, 0, 0],\n",
       "        [0, 0, 0],\n",
       "        [0, 0, 0]],\n",
       "\n",
       "       ...,\n",
       "\n",
       "       [[0, 0, 0],\n",
       "        [0, 0, 0],\n",
       "        [0, 0, 0],\n",
       "        ...,\n",
       "        [0, 0, 0],\n",
       "        [0, 0, 0],\n",
       "        [0, 0, 0]],\n",
       "\n",
       "       [[0, 0, 0],\n",
       "        [0, 0, 0],\n",
       "        [0, 0, 0],\n",
       "        ...,\n",
       "        [0, 0, 0],\n",
       "        [0, 0, 0],\n",
       "        [0, 0, 0]],\n",
       "\n",
       "       [[0, 0, 0],\n",
       "        [0, 0, 0],\n",
       "        [0, 0, 0],\n",
       "        ...,\n",
       "        [0, 0, 0],\n",
       "        [0, 0, 0],\n",
       "        [0, 0, 0]]], dtype=int16)"
      ]
     },
     "execution_count": 7,
     "metadata": {},
     "output_type": "execute_result"
    }
   ],
   "source": [
    "cv2.rectangle(blank_img,pt1 = (20,25),pt2 = (245,245),color = (0,100,255),thickness = 5)\n",
    "# thickness = -1 for filled shape"
   ]
  },
  {
   "cell_type": "code",
   "execution_count": 8,
   "id": "ae28c704-bfba-4437-ac17-e607643fa60f",
   "metadata": {},
   "outputs": [
    {
     "data": {
      "image/png": "[encoded data removed]",
      "text/plain": [
       "<Figure size 432x288 with 1 Axes>"
      ]
     },
     "metadata": {
      "needs_background": "light"
     },
     "output_type": "display_data"
    }
   ],
   "source": [
    "plt.imshow(blank_img);\n"
   ]
  },
  {
   "cell_type": "markdown",
   "id": "6e75116a-7600-4c72-9f25-8442616cf8bc",
   "metadata": {},
   "source": [
    "## Circle"
   ]
  },
  {
   "cell_type": "code",
   "execution_count": 9,
   "id": "a67b0ac2-5519-4317-b402-c8a590cdbfc5",
   "metadata": {},
   "outputs": [
    {
     "data": {
      "image/png": "[encoded data removed]",
      "text/plain": [
       "<Figure size 432x288 with 1 Axes>"
      ]
     },
     "metadata": {
      "needs_background": "light"
     },
     "output_type": "display_data"
    }
   ],
   "source": [
    "cv2.circle(blank_img,center = (300,300),radius = 50,color = (103,234,212),thickness = 10)\n",
    "plt.imshow(blank_img);"
   ]
  },
  {
   "cell_type": "code",
   "execution_count": 10,
   "id": "aeb3499c-92e8-48b9-8942-26794606be59",
   "metadata": {},
   "outputs": [
    {
     "data": {
      "image/png": "[encoded data removed]",
      "text/plain": [
       "<Figure size 432x288 with 1 Axes>"
      ]
     },
     "metadata": {
      "needs_background": "light"
     },
     "output_type": "display_data"
    }
   ],
   "source": [
    "# Filled it\n",
    "cv2.circle(blank_img,center = (100,350),radius = 50,color = (103,234,212),thickness = -1)\n",
    "plt.imshow(blank_img);"
   ]
  },
  {
   "cell_type": "markdown",
   "id": "120c15d8-9332-449d-89e8-2a9b237d8f44",
   "metadata": {},
   "source": [
    "## Line"
   ]
  },
  {
   "cell_type": "code",
   "execution_count": 11,
   "id": "3e8b7ce8-6b26-4017-a2ab-861af53c1d77",
   "metadata": {},
   "outputs": [
    {
     "data": {
      "image/png": "[encoded data removed]",
      "text/plain": [
       "<Figure size 432x288 with 1 Axes>"
      ]
     },
     "metadata": {
      "needs_background": "light"
     },
     "output_type": "display_data"
    }
   ],
   "source": [
    "cv2.line(blank_img,pt1 = (0,0),pt2 = (512,512),color = (0,255,0),thickness = 10)\n",
    "plt.imshow(blank_img);"
   ]
  },
  {
   "cell_type": "markdown",
   "id": "c7134bf6-63b8-485d-a11c-eda15b10f706",
   "metadata": {},
   "source": [
    "## Text"
   ]
  },
  {
   "cell_type": "code",
   "execution_count": 12,
   "id": "4a3de8da-37e5-4fda-9476-bff5eea0656c",
   "metadata": {},
   "outputs": [
    {
     "data": {
      "image/png": "[encoded data removed]",
      "text/plain": [
       "<Figure size 432x288 with 1 Axes>"
      ]
     },
     "metadata": {
      "needs_background": "light"
     },
     "output_type": "display_data"
    }
   ],
   "source": [
    "font = cv2.FONT_HERSHEY_SIMPLEX\n",
    "cv2.putText(blank_img,text = \"lmao \",org = (300,200),thickness =2,fontFace = font,fontScale = 2,color = (255,255,255),lineType = cv2.LINE_8)\n",
    "plt.imshow(blank_img);"
   ]
  },
  {
   "cell_type": "markdown",
   "id": "3d74dc48-ecaa-46fc-9a27-9e4caa76197b",
   "metadata": {},
   "source": [
    "## Polygons\n",
    "Need to make an array of coordinates with the shape (Rowsx1x2)"
   ]
  },
  {
   "cell_type": "code",
   "execution_count": 13,
   "id": "a817ac9c-54df-4a68-843c-d95187368b2f",
   "metadata": {},
   "outputs": [],
   "source": [
    "vertices = np.array([[20,30],[200,230],[300,300],[400,320],[230,400]],np.int32)"
   ]
  },
  {
   "cell_type": "code",
   "execution_count": 14,
   "id": "31565020-d91b-4c13-956b-76c9aa62fa43",
   "metadata": {},
   "outputs": [],
   "source": [
    "pts = vertices.reshape((-1,1,2))"
   ]
  },
  {
   "cell_type": "code",
   "execution_count": 15,
   "id": "19553c98-55b3-4475-a1eb-3b5586e63952",
   "metadata": {},
   "outputs": [
    {
     "data": {
      "image/png": "[encoded data removed]",
      "text/plain": [
       "<Figure size 432x288 with 1 Axes>"
      ]
     },
     "metadata": {
      "needs_background": "light"
     },
     "output_type": "display_data"
    }
   ],
   "source": [
    "cv2.polylines(blank_img,[pts],isClosed = True,color = (0,255,0),thickness =6)\n",
    "plt.imshow(blank_img);"
   ]
  },
  {
   "cell_type": "code",
   "execution_count": null,
   "id": "4626c8db-fd21-4a75-9555-43982ec6a6af",
   "metadata": {},
   "outputs": [],
   "source": []
  }
 ],
 "metadata": {
  "kernelspec": {
   "display_name": "Python 3",
   "language": "python",
   "name": "python3"
  },
  "language_info": {
   "codemirror_mode": {
    "name": "ipython",
    "version": 3
   },
   "file_extension": ".py",
   "mimetype": "text/x-python",
   "name": "python",
   "nbconvert_exporter": "python",
   "pygments_lexer": "ipython3",
   "version": "3.8.8"
  }
 },
 "nbformat": 4,
 "nbformat_minor": 5
}
